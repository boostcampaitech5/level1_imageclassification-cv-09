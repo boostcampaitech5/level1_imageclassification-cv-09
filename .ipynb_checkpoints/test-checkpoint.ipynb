{
 "cells": [
  {
   "cell_type": "code",
   "execution_count": 8,
   "metadata": {},
   "outputs": [],
   "source": [
    "from PIL import Image\n",
    "import torch\n",
    "import torch.nn as nn\n",
    "import torch.optim as optim\n",
    "import torch.nn.functional as F\n",
    "from torch.utils.data import Dataset, DataLoader\n",
    "import numpy as np  # 다차원 배열 처리\n",
    "import pandas as pd  # 데이터 처리\n",
    "import matplotlib.pyplot as plt  # 시각화\n",
    "import seaborn as sns  # 시각화\n",
    "import os\n",
    "import torchvision.transforms as transforms\n"
   ]
  },
  {
   "cell_type": "code",
   "execution_count": null,
   "metadata": {},
   "outputs": [],
   "source": [
    "class CustomDataset(Dataset):\n",
    "    def __init__(self, data_dir, transform):\n",
    "        self.data_dir = data_dir\n",
    "        self.transform = transform\n",
    "        self.image_files = os.listdir(data_dir)\n",
    "        self.img_names = []\n",
    "        for img_str in self.image_files:\n",
    "            if img_str[0] == '.':\n",
    "                continue\n",
    "            imgs = os.listdir(f\"{data_dir}{img_str}\")\n",
    "            for img in imgs:\n",
    "                if img[0] == '.':\n",
    "                    continue\n",
    "                self.img_names.append(f\"{img_str}/{img}\")\n",
    "\n",
    "    def __len__(self):\n",
    "        # 데이터셋의 총 데이터 수 반환\n",
    "        for img_name in self.img_names:\n",
    "            print(img_name)\n",
    "        return len(self.img_names)\n",
    "\n",
    "    def __getitem__(self, idx):\n",
    "        # idx 번째 데이터 반환\n",
    "        # 예시) return self.data[idx]\n",
    "        image = Image.open(f\"{self.data_dir}/{self.img_names[idx]}\")\n",
    "        return self.image_files[idx]\n",
    "    "
   ]
  },
  {
   "cell_type": "code",
   "execution_count": null,
   "metadata": {},
   "outputs": [],
   "source": [
    "data_trans = transforms.Compose([\n",
    "    transforms.Resize(256)\n",
    "#     transforms.RandomHorizontalFlip(p=0.5),\n",
    "#     transforms.RandomRotation(degrees=30),\n",
    "#     transforms.RandomResizedCrop(size=224, scale=(0.5, 1.0)),\n",
    "#     transforms.ToTensor(),\n",
    "#     transforms.Normalize(mean=[0.5, 0.5, 0.5], std=[0.5, 0.5, 0.5])\n",
    "])\n",
    "dataset = CustomDataset(\"/opt/ml/input/data/train/images/\",data_trans)\n",
    "len(dataset)"
   ]
  },
  {
   "cell_type": "code",
   "execution_count": null,
   "metadata": {},
   "outputs": [],
   "source": []
  }
 ],
 "metadata": {
  "kernelspec": {
   "display_name": "주피터king_hyuns",
   "language": "python",
   "name": "conda"
  },
  "language_info": {
   "codemirror_mode": {
    "name": "ipython",
    "version": 3
   },
   "file_extension": ".py",
   "mimetype": "text/x-python",
   "name": "python",
   "nbconvert_exporter": "python",
   "pygments_lexer": "ipython3",
   "version": "3.8.5"
  }
 },
 "nbformat": 4,
 "nbformat_minor": 2
}
