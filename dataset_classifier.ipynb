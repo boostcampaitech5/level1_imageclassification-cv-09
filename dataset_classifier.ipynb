{
 "cells": [
  {
   "cell_type": "code",
   "execution_count": 1,
   "metadata": {},
   "outputs": [],
   "source": [
    "from PIL import Image\n",
    "import torch\n",
    "import torch.nn as nn\n",
    "import torch.optim as optim\n",
    "import torch.nn.functional as F\n",
    "from torch.utils.data import Dataset, DataLoader\n",
    "import numpy as np  # 다차원 배열 처리\n",
    "import pandas as pd  # 데이터 처리\n",
    "import matplotlib.pyplot as plt  # 시각화\n",
    "import seaborn as sns  # 시각화\n",
    "import os\n",
    "import torchvision.transforms as transforms\n",
    "import re\n",
    "import shutil"
   ]
  },
  {
   "cell_type": "code",
   "execution_count": 2,
   "metadata": {},
   "outputs": [],
   "source": [
    "# 분류할 이미지 파일이 들어 있는 디렉토리 경로\n",
    "image_dir = \"/opt/ml/input/data/train/images/\"\n",
    "\n",
    "# 분류 결과를 저장할 디렉토리 경로\n",
    "img_class_dir_list = list()\n",
    "img_class_dir_list.append(\"/opt/ml/input/data/train/img_classes/female/mask\")\n",
    "img_class_dir_list.append(\"/opt/ml/input/data/train/img_classes/female/normal\")\n",
    "img_class_dir_list.append(\"/opt/ml/input/data/train/img_classes/female/incorrect_mask\")\n",
    "img_class_dir_list.append(\"/opt/ml/input/data/train/img_classes/male/mask\")\n",
    "img_class_dir_list.append(\"/opt/ml/input/data/train/img_classes/male/normal\")\n",
    "img_class_dir_list.append(\"/opt/ml/input/data/train/img_classes/male/incorrect_mask\")\n",
    "\n",
    "for icdl in img_class_dir_list:\n",
    "    os.makedirs(icdl, exist_ok=True)\n"
   ]
  },
  {
   "cell_type": "code",
   "execution_count": 3,
   "metadata": {},
   "outputs": [],
   "source": [
    "class CustomDataset(Dataset):\n",
    "    def __init__(self, data_dir, transform):\n",
    "        self.data_dir = data_dir\n",
    "        self.transform = transform\n",
    "        self.image_files = os.listdir(data_dir)\n",
    "        self.img_names = []\n",
    "        for img_str in self.image_files:\n",
    "            if img_str[0] == '.':\n",
    "                continue\n",
    "            imgs = os.listdir(f\"{data_dir}{img_str}\")\n",
    "            for img in imgs:\n",
    "                if img[0] == '.':\n",
    "                    continue\n",
    "                self.img_names.append(f\"{img_str}/{img}\")\n",
    "\n",
    "    def __len__(self):\n",
    "        # 데이터셋의 총 데이터 수 반환\n",
    "        return len(self.img_names)\n",
    "\n",
    "    def __getitem__(self, idx):\n",
    "        # idx 번째 데이터 반환\n",
    "        # 예시) return self.data[idx]\n",
    "        image = Image.open(f\"{self.data_dir}/{self.img_names[idx]}\")\n",
    "        # return self.image_files[idx]\n",
    "        return self.img_names[idx]\n",
    "    "
   ]
  },
  {
   "cell_type": "code",
   "execution_count": 7,
   "metadata": {},
   "outputs": [
    {
     "name": "stdout",
     "output_type": "stream",
     "text": [
      "18900\n"
     ]
    }
   ],
   "source": [
    "data_trans = transforms.Compose([\n",
    "#     transforms.Resize(256)\n",
    "#     transforms.RandomHorizontalFlip(p=0.5),\n",
    "#     transforms.RandomRotation(degrees=30),\n",
    "#     transforms.RandomResizedCrop(size=224, scale=(0.5, 1.0)),\n",
    "#     transforms.ToTensor(),\n",
    "#     transforms.Normalize(mean=[0.5, 0.5, 0.5], std=[0.5, 0.5, 0.5])\n",
    "])\n",
    "\n",
    "dataset = CustomDataset(image_dir,data_trans)\n",
    "print(len(dataset))\n",
    "for i in range(len(dataset)):\n",
    "    img_comp = re.split(r'[_/.]', dataset[i])  # ['003483', 'male', 'Asian', '56', 'mask5', 'jpg']\n",
    "    sex = img_comp[1]\n",
    "    status = img_comp[4]\n",
    "    img_path = f\"{image_dir}/{dataset[i]}\"\n",
    "    if sex == \"female\":\n",
    "        if status in [\"mask1\", \"mask2\", \"mask3\", \"mask4\", \"mask5\"]:\n",
    "            shutil.copy(img_path, f\"{img_class_dir_list[0]}/{img_comp[0]}_{img_comp[4]}.jpg\")\n",
    "        elif status == \"normal\":\n",
    "            shutil.copy(img_path, f\"{img_class_dir_list[1]}/{img_comp[0]}_{img_comp[4]}.jpg\")\n",
    "        elif status == \"incorrect\":\n",
    "            shutil.copy(img_path, f\"{img_class_dir_list[2]}/{img_comp[0]}_{img_comp[4]}.jpg\")\n",
    "        else:\n",
    "            print(img_comp)\n",
    "    elif sex == \"male\":\n",
    "        if status in [\"mask1\", \"mask2\", \"mask3\", \"mask4\", \"mask5\"]:\n",
    "            shutil.copy(img_path, f\"{img_class_dir_list[3]}/{img_comp[0]}_{img_comp[4]}.jpg\")\n",
    "        elif status == \"normal\":\n",
    "            shutil.copy(img_path, f\"{img_class_dir_list[4]}/{img_comp[0]}_{img_comp[4]}.jpg\")\n",
    "        elif status == \"incorrect\":\n",
    "            shutil.copy(img_path, f\"{img_class_dir_list[5]}/{img_comp[0]}_{img_comp[4]}.jpg\")\n",
    "        else:\n",
    "            print(img_comp)\n",
    "\n",
    "    else:\n",
    "        print(img_comp)"
   ]
  },
  {
   "cell_type": "code",
   "execution_count": 17,
   "metadata": {},
   "outputs": [
    {
     "name": "stdout",
     "output_type": "stream",
     "text": [
      "/opt/ml/input/data/train/img_classes : 0\n",
      "/opt/ml/input/data/train/img_classes/male : 0\n",
      "/opt/ml/input/data/train/img_classes/male/mask : 5210\n",
      "/opt/ml/input/data/train/img_classes/male/incorrect_mask : 1042\n",
      "/opt/ml/input/data/train/img_classes/male/normal : 1042\n",
      "/opt/ml/input/data/train/img_classes/female : 0\n",
      "/opt/ml/input/data/train/img_classes/female/mask : 8285\n",
      "/opt/ml/input/data/train/img_classes/female/incorrect_mask : 1657\n",
      "/opt/ml/input/data/train/img_classes/female/normal : 1657\n",
      "001019_mask3.jpg\n",
      "total : 18893\n",
      "dataset : 18900\n"
     ]
    }
   ],
   "source": [
    "total = 0\n",
    "for root, dirs, files in os.walk(\"/opt/ml/input/data/train/img_classes\"):\n",
    "    total += len(files)\n",
    "    print(f\"{root} : {len(files)}\")\n",
    "for root, dirs, files in os.walk(\"/opt/ml/input/data/train/img_classes/male/mask/\"):\n",
    "    print(f\"{files[1]}\")\n",
    "print(f\"total : {total}\")\n",
    "print(f\"dataset : {len(dataset)}\")"
   ]
  },
  {
   "cell_type": "code",
   "execution_count": 1,
   "metadata": {},
   "outputs": [
    {
     "name": "stdout",
     "output_type": "stream",
     "text": [
      "Fri Apr 14 07:30:06 2023       \n",
      "+-----------------------------------------------------------------------------+\n",
      "| NVIDIA-SMI 450.80.02    Driver Version: 450.80.02    CUDA Version: 11.0     |\n",
      "|-------------------------------+----------------------+----------------------+\n",
      "| GPU  Name        Persistence-M| Bus-Id        Disp.A | Volatile Uncorr. ECC |\n",
      "| Fan  Temp  Perf  Pwr:Usage/Cap|         Memory-Usage | GPU-Util  Compute M. |\n",
      "|                               |                      |               MIG M. |\n",
      "|===============================+======================+======================|\n",
      "|   0  Tesla V100-PCIE...  Off  | 00000000:00:05.0 Off |                  Off |\n",
      "| N/A   34C    P0    36W / 250W |      0MiB / 32510MiB |      0%      Default |\n",
      "|                               |                      |                  N/A |\n",
      "+-------------------------------+----------------------+----------------------+\n",
      "                                                                               \n",
      "+-----------------------------------------------------------------------------+\n",
      "| Processes:                                                                  |\n",
      "|  GPU   GI   CI        PID   Type   Process name                  GPU Memory |\n",
      "|        ID   ID                                                   Usage      |\n",
      "|=============================================================================|\n",
      "|  No running processes found                                                 |\n",
      "+-----------------------------------------------------------------------------+\n"
     ]
    }
   ],
   "source": []
  },
  {
   "cell_type": "code",
   "execution_count": null,
   "metadata": {},
   "outputs": [],
   "source": []
  }
 ],
 "metadata": {
  "kernelspec": {
   "display_name": "주피터king_hyuns",
   "language": "python",
   "name": "conda"
  },
  "language_info": {
   "codemirror_mode": {
    "name": "ipython",
    "version": 3
   },
   "file_extension": ".py",
   "mimetype": "text/x-python",
   "name": "python",
   "nbconvert_exporter": "python",
   "pygments_lexer": "ipython3",
   "version": "3.8.5"
  }
 },
 "nbformat": 4,
 "nbformat_minor": 2
}
